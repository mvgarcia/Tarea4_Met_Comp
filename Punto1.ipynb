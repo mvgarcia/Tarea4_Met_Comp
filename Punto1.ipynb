{
 "cells": [
  {
   "cell_type": "markdown",
   "metadata": {},
   "source": [
    "# Punto 1"
   ]
  },
  {
   "cell_type": "code",
   "execution_count": 1,
   "metadata": {},
   "outputs": [],
   "source": [
    "import numpy as np\n",
    "import matplotlib.pyplot as plt"
   ]
  },
  {
   "cell_type": "markdown",
   "metadata": {},
   "source": [
    "A demostrar:\n",
    "\n",
    "$$ \\mathcal{F}(\\frac{df(x)}{dx}) = iw \\mathcal{F}(f(x)) $$\n",
    "\n",
    "Por definición $$\\mathcal{F}(w)=\\mathcal{F}(f(t))=\\int_{-\\infty}^{\\infty} f(x) e^{iwx} dx$$\n",
    "\n",
    "Si tomamos $$ f(x)= \\frac{df(x)}{dx}$$\n",
    "\n",
    "$$\\mathcal{F}(w)=\\mathcal{F}(\\frac{df(x)}{dx})=\\int_{-\\infty}^{\\infty}  \\frac{df(x)}{dx} e^{iwx} dx$$\n",
    "\n",
    "$$\\mathcal{F}(w)=\\int_{-\\infty}^{\\infty}  \\frac{de^{iwx}}{dx} f(x)dx$$\n",
    "\n",
    "$$\\mathcal{F}(w)=\\int_{-\\infty}^{\\infty}  iwe^{iwx} f(x)dx$$\n",
    "\n",
    "$$\\mathcal{F}(w)= iw \\int_{-\\infty}^{\\infty}  e^{iwx} f(x)dx$$\n",
    "\n",
    "$$\\mathcal{F}(w)= iw \\int_{-\\infty}^{\\infty} f(x)e^{iwx} dx$$\n",
    "\n",
    "$$\\mathcal{F}(\\frac{df(x)}{dx})= iw \\mathcal{F}(f(t))$$"
   ]
  },
  {
   "cell_type": "code",
   "execution_count": 155,
   "metadata": {},
   "outputs": [
    {
     "data": {
      "text/plain": [
       "<matplotlib.legend.Legend at 0x1dedc6d5a08>"
      ]
     },
     "execution_count": 155,
     "metadata": {},
     "output_type": "execute_result"
    },
    {
     "data": {
      "image/png": "[encoded data removed]",
      "text/plain": [
       "<Figure size 432x288 with 1 Axes>"
      ]
     },
     "metadata": {
      "needs_background": "light"
     },
     "output_type": "display_data"
    }
   ],
   "source": [
    "def Function(x):\n",
    "    return np.cos(x)*np.exp(-(x**2)/25)\n",
    "\n",
    "def ExactDerivative(x):\n",
    "    return (-2*x*np.cos(x)*np.exp(-(x**2)/25)/25)-(np.sin(x)*np.exp(-(x**2)/25))\n",
    "\n",
    "\n",
    "L=20\n",
    "N=50\n",
    "h=L/N\n",
    "\n",
    "w0=2*np.pi/L\n",
    "\n",
    "def CentralDerivative(f,x,h):\n",
    "    \n",
    "    d = 0.\n",
    "    if( h!=0):\n",
    "        d = (f(x+h)-f(x-h))/(2.*h)\n",
    "        \n",
    "    return d\n",
    "\n",
    "def SpectralDerivative(f,x,w0):\n",
    "    \n",
    "    freq=w0*np.arange(-N/2,N/2)\n",
    "    w= np.fft.fftshift(freq)\n",
    "    fft=np.fft.fft(f(x))\n",
    "    i=1j\n",
    "    value=i*w*fft\n",
    "    d=np.fft.ifft(value)\n",
    "    return d\n",
    "\n",
    "t=np.linspace(-10.0,10.0,50)\n",
    "\n",
    "plt.plot(t,ExactDerivative(t),'ko',markersize=5 ,label=\"Derivada exacta\")\n",
    "plt.plot(t,CentralDerivative(Function,t,h),'b--', label=\"Derivada central\")\n",
    "plt.plot(t,SpectralDerivative(Function,t,w0).real,'r-', label=\"Derivada espectral\")\n",
    "plt.xlabel(\"t\",fontsize=15)\n",
    "plt.ylabel(\"df(t)/dt\",fontsize=15)\n",
    "plt.grid()\n",
    "plt.legend()"
   ]
  },
  {
   "cell_type": "markdown",
   "metadata": {},
   "source": [
    "Usamos la definición de concolución discreta:\n",
    "$$ y[n] = x[n] * h[n] = \\sum_{k=-\\infty}^{\\infty} x[k] \\cdot h[n-k] $$\n",
    "\n",
    "Tenemos que:\n",
    "$$ x[n]=\\delta[n]+\\delta[n-1]+\\delta[n-2]+\\delta[n-2]$$\n",
    "$$ h[n]=\\delta[n]+\\delta[n-1]$$\n",
    "\n",
    "Igualamos el tamaño de las secuencias añadiendo un cero a cada extremo de h:\n",
    "\n",
    "$$ h[n]= 0 + \\delta[n]+\\delta[n-1] + 0$$\n",
    "\n",
    "$$ y[n]= x[0] \\cdot h[n-0] + x[1] \\cdot h[n-1]+ x[2] \\cdot h[n-2] + x[3] \\cdot h[n-3] $$\n",
    "\n",
    "Para n=0:\n",
    "$$ y[0]= x[0] \\cdot h[0] = 1$$\n",
    "\n",
    "Para n=1:\n",
    "$$ y[1]= x[0] \\cdot h[1] + x[1] \\cdot h[0] = 1 + 1 = 2$$\n",
    "\n",
    "Para n=2:\n",
    "$$ y[2]= x[0] \\cdot h[2] + x[1] \\cdot h[1] + x[2] \\cdot h[0] = 0 + 1 + 2 = 3$$\n",
    "\n",
    "Para n=3:\n",
    "$$ y[3]= x[0] \\cdot h[3] + x[1] \\cdot h[2] + x[2] \\cdot h[1] + x[3] \\cdot h[0]= 0 + 0 + 1 + 0 = 1$$\n",
    "\n",
    "$$ y = 1,2,3,1$$"
   ]
  },
  {
   "cell_type": "markdown",
   "metadata": {},
   "source": [
    "Para hallar la convolución computacionalmente utilizamos la transformada de Fourier:\n",
    "\n",
    "$$ \\mathcal{F}(f*g) = (\\mathcal{F}(f)) \\cdot (\\mathcal{F}(g))$$"
   ]
  },
  {
   "cell_type": "code",
   "execution_count": 171,
   "metadata": {},
   "outputs": [
    {
     "name": "stdout",
     "output_type": "stream",
     "text": [
      "y = [1. 2. 3. 2.]\n"
     ]
    }
   ],
   "source": [
    "def delta(t):\n",
    "    if(t==0):return 1\n",
    "    else: return 0\n",
    "\n",
    "def xn(n):\n",
    "    return delta(n)+ delta(n-1)+delta(n-2)+delta(n-2)\n",
    "\n",
    "def hn(n):\n",
    "    return 0 + delta(n) + delta(n-1) + 0\n",
    "\n",
    "x=[xn(i) for i in range(4)]\n",
    "#print(x)\n",
    "h=[hn(i) for i in range(4)]\n",
    "#print(h)\n",
    "\n",
    "y=np.fft.ifft(np.fft.fft(x)*np.fft.fft(h)).real\n",
    "print(\"y =\",y)"
   ]
  }
 ],
 "metadata": {
  "kernelspec": {
   "display_name": "Python 3",
   "language": "python",
   "name": "python3"
  },
  "language_info": {
   "codemirror_mode": {
    "name": "ipython",
    "version": 3
   },
   "file_extension": ".py",
   "mimetype": "text/x-python",
   "name": "python",
   "nbconvert_exporter": "python",
   "pygments_lexer": "ipython3",
   "version": "3.7.6"
  }
 },
 "nbformat": 4,
 "nbformat_minor": 4
}
